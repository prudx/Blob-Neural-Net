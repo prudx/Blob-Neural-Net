{
 "cells": [
  {
   "cell_type": "code",
   "execution_count": 0,
   "metadata": {
    "colab": {
     "base_uri": "https://localhost:8080/",
     "height": 34
    },
    "colab_type": "code",
    "id": "8nKvvkTEFz8B",
    "outputId": "d1759986-6553-4ab6-c7cb-adf1a553201e"
   },
   "outputs": [
    {
     "name": "stdout",
     "output_type": "stream",
     "text": [
      "\u001b[0m\u001b[01;34mgdrive\u001b[0m/  \u001b[01;34msample_data\u001b[0m/  somefile.txt\n"
     ]
    }
   ],
   "source": [
    "%ls"
   ]
  },
  {
   "cell_type": "markdown",
   "metadata": {},
   "source": [
    "# Daniel Maguire - X00127907 - AI CA2"
   ]
  },
  {
   "cell_type": "markdown",
   "metadata": {},
   "source": [
    "## 1.1 Introduction\n",
    "A brief introduction about this project. I started out using google colab to try and take advantage of using their GPU for faster training and grid searching. I then learned about their other option for runtime, TPU (Tensorflow processing unit) and was eager to play around with it as it is designed for running this kind of stuff. However, in the long run, I ended up having a lot of trouble when it came time to grid search as I lost a night of grid searching twice, due to restrictions put on kernals running over long periods of time. I thought I was checkpointing my grid searching efforts, but it turned out I misunderstood how Keras callbacks interact when used with GridSearchcv and I ended up not being able to restore my checkpointed progress after many hours of running.\n",
    "\n",
    "\n",
    "  After this disaster I chose to ditch trying to checkpoint my grid searching efforts and to move the project to a local anaconda environment with minimal packages installed apart from what I needed. This allowed me to use the parameter n_jobs=-1 during my grid searching, which would account for about 90% of my running time over the course of the project. However, I ran into memory leak issues, causing my grid search to crash after hours of running. I then learned to use the pre_dispatch parameter in the grid search along with n_jobs in order to properly manage memory and cause the crashing to stop. These parameters were not possible to run on colab or azure notebooks due to the architecture of those softwares. Once I had figured out how to utilize these parameters locally, grid searching became a breeze thanks to my 6 core 12 thread CPU allowing me to run searches rather fast and make improvements in my model.\n",
    "  \n",
    "  \n",
    "  If I learned anything from this project, it’s that if I were to do it again, I would start locally with anaconda instead of trying to make use of GPU’s and TPU’s hosted in the cloud. I’ve learned that thankfully my machine is strong enough to be able to train deep learning algorithms locally. Now on to the project.\n"
   ]
  },
  {
   "cell_type": "markdown",
   "metadata": {
    "colab_type": "text",
    "id": "F5CZclqXx450"
   },
   "source": [
    "## 1.2 Imports\n",
    "Here are our imports, as is expected we are using NumPy, pandas and popular graphing library matplotlib. We are generating our dataset using sklearn’s make_blobs from their sample generator library and we are building our neural net using Keras. Some of the more uncommon imports here would be seaborn, and google.colab. \n",
    "\n",
    "\n",
    "   Seaborn is a python statistical data visualization library based on matplotlib, it provides a high level interface for drawing attractive and informative statistical graphs. I quite like some of the graphs that can be made using Seaborn so I may use this over matplotlib at times, hopefully to enable better explanation of the data and findings. \n",
    "   \n",
    "\n",
    "   I use google.colab import drive in order to properly implement checkpointing in my grid searches, due to the nature of colab, it is isolated from your personal google drive in its runtime. So by importing drive I can save all the .hdf5 files that I want, containing my best weights and parameters for my grid searches. Running our imports cell allows me to authenticate my google account using an auth key.\n"
   ]
  },
  {
   "cell_type": "code",
   "execution_count": 13,
   "metadata": {
    "colab": {
     "base_uri": "https://localhost:8080/",
     "height": 50
    },
    "colab_type": "code",
    "id": "h1NzWuZRkUw2",
    "outputId": "d365e211-e449-4e9e-9721-1078afd22a45"
   },
   "outputs": [],
   "source": [
    "import os\n",
    "import numpy as np\n",
    "import pandas as pd\n",
    "import matplotlib.pyplot as plt\n",
    "import seaborn as sns\n",
    "from sklearn.datasets.samples_generator import make_blobs\n",
    "from sklearn.preprocessing import StandardScaler\n",
    "from sklearn.model_selection import train_test_split\n",
    "from sklearn.model_selection import GridSearchCV\n",
    "from sklearn.decomposition import PCA\n",
    "from keras.utils import np_utils \n",
    "from keras.models import Sequential \n",
    "from keras.models import model_from_json\n",
    "from keras.layers import Dense\n",
    "from keras.layers import Dropout\n",
    "from keras.callbacks import ModelCheckpoint\n",
    "from keras.callbacks import EarlyStopping\n",
    "from keras import optimizers\n",
    "from keras.wrappers.scikit_learn import KerasClassifier\n",
    "import pickle\n",
    "\n",
    "# Check that gdrive is working for storing checkpoint files\n",
    "# from google.colab import drive\n",
    "# drive.mount('/content/gdrive')\n",
    "\n",
    "sns.set(style=\"ticks\")"
   ]
  },
  {
   "cell_type": "code",
   "execution_count": null,
   "metadata": {
    "colab_type": "text",
    "id": "LE9oxwTVsTwZ"
   },
   "outputs": [],
   "source": [
    "# check drive is connected\n",
    "!ls '/content/gdrive/My Drive'"
   ]
  },
  {
   "cell_type": "markdown",
   "metadata": {
    "colab_type": "text",
    "id": "om9PtPPDx_ix"
   },
   "source": [
    "## 1.3 Creating the dataset\n",
    "\n",
    "To create the dataset we will be using sklearn.datasets make blobs method, this method generates isotropic gaussian blobs designed for clustering. I am using the following assigned parameters for creation of the dataset\n",
    "* n_samples = 100,000\n",
    "* centers = 5\n",
    "* n_features = 86\n",
    "* cluster_std = 123\n",
    "* seed = 23\n",
    "\n",
    "I then split the data in a 80:20 train test split, where we shall develop and train our model on the 80% and keep the remaining 20% of the dataset for unseen testing once we have our finished model\n"
   ]
  },
  {
   "cell_type": "code",
   "execution_count": 14,
   "metadata": {
    "colab": {
     "base_uri": "https://localhost:8080/",
     "height": 336
    },
    "colab_type": "code",
    "id": "0SRvnzgfkUw-",
    "outputId": "b63d30de-effe-43d3-be76-70745d572d57"
   },
   "outputs": [
    {
     "name": "stdout",
     "output_type": "stream",
     "text": [
      "[  73.4785484   129.3255492   183.85160688  -19.71475968  330.18948836\n",
      "  -11.14481777   78.82260928    6.28100229   30.4012036   120.98537637\n",
      " -120.30795281  -83.46759972   35.758575    -50.90558037 -205.22375629\n",
      "   -0.4404256   -43.9723486   -19.81730829  154.41428524   36.12771353\n",
      "  -91.60993767 -186.81961199  131.59916817  234.16318421   20.57312711\n",
      " -184.72912385   81.3940172  -190.69263926  -52.45781648    9.96460483\n",
      " -143.81392738   25.3523589   207.03847807  -21.744931    317.23251454\n",
      "   41.78398366  -40.53076944 -126.12411338  176.87475843  135.50897704\n",
      " -173.23044279 -156.27139563  -59.29802104  186.5603993   102.9764442\n",
      "   68.10198235 -282.79187993   59.00739591  -80.37150966   98.4517728\n",
      "  -22.72768556 -101.52007338  200.7086301   140.74307414   67.16989486\n",
      "  -89.70105549   72.08863197  109.59093357  246.5786073   -98.53199807\n",
      "   87.28212584   98.3795302   222.08431838   61.34245131  -76.62150224\n",
      "  -26.05082879   24.30850753   84.12953588 -131.43617578  267.36380024\n",
      "   47.13699266  162.00032446  157.10022959 -169.07250641    4.60634938\n",
      "  106.32036103  -21.84363935  -85.8516805  -143.52596337   43.8886432\n",
      "   43.33344344   10.76804836  157.43346766 -193.1627662    24.61278014\n",
      "   53.81275562]\n",
      "2\n"
     ]
    }
   ],
   "source": [
    "# using smaller values for now, \n",
    "# features = 86\n",
    "# classes = 5\n",
    "# cluster std = 123\n",
    "\n",
    "n_features = 86\n",
    "n_class = 5\n",
    "\n",
    "X, y = make_blobs(n_samples=100000, centers=n_class, cluster_std=123,\n",
    "n_features=n_features, random_state = 1)\n",
    "\n",
    "X_train, X_test, y_train, y_test = train_test_split(X, y, test_size=0.2, random_state=42)\n",
    "\n",
    "# assigned seed value\n",
    "seed = 23 \n",
    "np.random.seed(seed)\n",
    "\n",
    "print(X_train[0]) \n",
    "print(y_train[0])"
   ]
  },
  {
   "cell_type": "markdown",
   "metadata": {
    "colab_type": "text",
    "id": "Fq0SIZtU3KcA"
   },
   "source": [
    "## 1.4 Data Exploration\n",
    "\n",
    "Here we will attempt to do some exploration of the blob dataset. First, I will turn the data into a pandas data frame in order to make exploratory data analysis easier.\n"
   ]
  },
  {
   "cell_type": "code",
   "execution_count": 15,
   "metadata": {
    "colab": {},
    "colab_type": "code",
    "id": "i4dL7mWAkUxS"
   },
   "outputs": [],
   "source": [
    "# make some pandas df's for easier EDA\n",
    "feature_cols = ['x{}'.format(x) for x in range(n_features)]\n",
    "\n",
    "# training data\n",
    "df_train = pd.DataFrame(X_train,columns=feature_cols)\n",
    "df_train['y'] = y_train\n",
    "\n",
    "# test data\n",
    "df_test = pd.DataFrame(X_test,columns=feature_cols)\n",
    "df_test['y'] = y_test"
   ]
  },
  {
   "cell_type": "markdown",
   "metadata": {
    "colab_type": "text",
    "id": "UxhLSH9H3M0B"
   },
   "source": [
    "We will look at the shape of our data, you might notice we have 87 columns, this is perfectly fine as one of our colums is Y, not part of the 86 features\n"
   ]
  },
  {
   "cell_type": "code",
   "execution_count": 4,
   "metadata": {
    "colab": {
     "base_uri": "https://localhost:8080/",
     "height": 50
    },
    "colab_type": "code",
    "id": "qMeoDbz-kUxa",
    "outputId": "30f1a0c9-12aa-44de-e890-dfa2688a77d9"
   },
   "outputs": [
    {
     "name": "stdout",
     "output_type": "stream",
     "text": [
      "df_train shape = (80000, 87)\n",
      "df_test shape = (20000, 87)\n"
     ]
    }
   ],
   "source": [
    "# look at shape of your data\n",
    "print('df_train shape = {}'.format(df_train.shape))\n",
    "print('df_test shape = {}'.format(df_test.shape))"
   ]
  },
  {
   "cell_type": "code",
   "execution_count": 8,
   "metadata": {
    "colab": {
     "base_uri": "https://localhost:8080/",
     "height": 244
    },
    "colab_type": "code",
    "id": "ey4mxn2LkUxk",
    "outputId": "b1895670-0cfb-491e-e7e1-8aa6a178fe2b"
   },
   "outputs": [
    {
     "data": {
      "text/html": [
       "<div>\n",
       "<style scoped>\n",
       "    .dataframe tbody tr th:only-of-type {\n",
       "        vertical-align: middle;\n",
       "    }\n",
       "\n",
       "    .dataframe tbody tr th {\n",
       "        vertical-align: top;\n",
       "    }\n",
       "\n",
       "    .dataframe thead th {\n",
       "        text-align: right;\n",
       "    }\n",
       "</style>\n",
       "<table border=\"1\" class=\"dataframe\">\n",
       "  <thead>\n",
       "    <tr style=\"text-align: right;\">\n",
       "      <th></th>\n",
       "      <th>x0</th>\n",
       "      <th>x1</th>\n",
       "      <th>x2</th>\n",
       "      <th>x3</th>\n",
       "      <th>x4</th>\n",
       "      <th>x5</th>\n",
       "      <th>x6</th>\n",
       "      <th>x7</th>\n",
       "      <th>x8</th>\n",
       "      <th>x9</th>\n",
       "      <th>...</th>\n",
       "      <th>x77</th>\n",
       "      <th>x78</th>\n",
       "      <th>x79</th>\n",
       "      <th>x80</th>\n",
       "      <th>x81</th>\n",
       "      <th>x82</th>\n",
       "      <th>x83</th>\n",
       "      <th>x84</th>\n",
       "      <th>x85</th>\n",
       "      <th>y</th>\n",
       "    </tr>\n",
       "  </thead>\n",
       "  <tbody>\n",
       "    <tr>\n",
       "      <th>0</th>\n",
       "      <td>69.644258</td>\n",
       "      <td>-143.954911</td>\n",
       "      <td>124.548816</td>\n",
       "      <td>-139.484203</td>\n",
       "      <td>-30.717040</td>\n",
       "      <td>0.479478</td>\n",
       "      <td>-69.925000</td>\n",
       "      <td>-170.794257</td>\n",
       "      <td>4.700090</td>\n",
       "      <td>-37.450654</td>\n",
       "      <td>...</td>\n",
       "      <td>-8.190191</td>\n",
       "      <td>-130.790723</td>\n",
       "      <td>-291.170531</td>\n",
       "      <td>-159.849737</td>\n",
       "      <td>21.740255</td>\n",
       "      <td>79.064492</td>\n",
       "      <td>-276.751193</td>\n",
       "      <td>-56.137424</td>\n",
       "      <td>132.066655</td>\n",
       "      <td>2</td>\n",
       "    </tr>\n",
       "    <tr>\n",
       "      <th>1</th>\n",
       "      <td>-76.159887</td>\n",
       "      <td>56.475978</td>\n",
       "      <td>4.691005</td>\n",
       "      <td>25.055718</td>\n",
       "      <td>-24.109261</td>\n",
       "      <td>40.494691</td>\n",
       "      <td>-24.957179</td>\n",
       "      <td>78.826808</td>\n",
       "      <td>20.406328</td>\n",
       "      <td>-154.819065</td>\n",
       "      <td>...</td>\n",
       "      <td>-145.782270</td>\n",
       "      <td>172.963008</td>\n",
       "      <td>-34.117877</td>\n",
       "      <td>171.352331</td>\n",
       "      <td>136.684289</td>\n",
       "      <td>-87.906398</td>\n",
       "      <td>26.465475</td>\n",
       "      <td>-6.192313</td>\n",
       "      <td>-32.529201</td>\n",
       "      <td>1</td>\n",
       "    </tr>\n",
       "    <tr>\n",
       "      <th>2</th>\n",
       "      <td>59.364663</td>\n",
       "      <td>135.363798</td>\n",
       "      <td>8.738125</td>\n",
       "      <td>-230.546109</td>\n",
       "      <td>-64.165901</td>\n",
       "      <td>44.707145</td>\n",
       "      <td>118.020542</td>\n",
       "      <td>-16.104418</td>\n",
       "      <td>-100.232442</td>\n",
       "      <td>-13.946875</td>\n",
       "      <td>...</td>\n",
       "      <td>17.167181</td>\n",
       "      <td>133.182149</td>\n",
       "      <td>-78.436530</td>\n",
       "      <td>111.984234</td>\n",
       "      <td>-121.356381</td>\n",
       "      <td>-125.426157</td>\n",
       "      <td>156.227858</td>\n",
       "      <td>-214.318785</td>\n",
       "      <td>-100.422450</td>\n",
       "      <td>4</td>\n",
       "    </tr>\n",
       "    <tr>\n",
       "      <th>3</th>\n",
       "      <td>130.540487</td>\n",
       "      <td>-179.069750</td>\n",
       "      <td>-162.753651</td>\n",
       "      <td>186.454959</td>\n",
       "      <td>-83.455588</td>\n",
       "      <td>111.176278</td>\n",
       "      <td>-111.795029</td>\n",
       "      <td>-40.722315</td>\n",
       "      <td>-96.985559</td>\n",
       "      <td>-14.968255</td>\n",
       "      <td>...</td>\n",
       "      <td>-23.586438</td>\n",
       "      <td>-29.647693</td>\n",
       "      <td>-138.240733</td>\n",
       "      <td>-0.275365</td>\n",
       "      <td>-6.081906</td>\n",
       "      <td>112.670787</td>\n",
       "      <td>-6.034459</td>\n",
       "      <td>-138.083518</td>\n",
       "      <td>46.181339</td>\n",
       "      <td>4</td>\n",
       "    </tr>\n",
       "    <tr>\n",
       "      <th>4</th>\n",
       "      <td>-90.711789</td>\n",
       "      <td>22.392556</td>\n",
       "      <td>-34.422966</td>\n",
       "      <td>29.394924</td>\n",
       "      <td>239.281881</td>\n",
       "      <td>87.875643</td>\n",
       "      <td>278.308433</td>\n",
       "      <td>-137.790240</td>\n",
       "      <td>-149.847192</td>\n",
       "      <td>42.253248</td>\n",
       "      <td>...</td>\n",
       "      <td>-65.456597</td>\n",
       "      <td>-65.352376</td>\n",
       "      <td>-43.566457</td>\n",
       "      <td>-134.971190</td>\n",
       "      <td>-36.724267</td>\n",
       "      <td>124.046678</td>\n",
       "      <td>55.541273</td>\n",
       "      <td>-16.342797</td>\n",
       "      <td>135.123925</td>\n",
       "      <td>3</td>\n",
       "    </tr>\n",
       "  </tbody>\n",
       "</table>\n",
       "<p>5 rows × 87 columns</p>\n",
       "</div>"
      ],
      "text/plain": [
       "           x0          x1          x2          x3          x4          x5  \\\n",
       "0   69.644258 -143.954911  124.548816 -139.484203  -30.717040    0.479478   \n",
       "1  -76.159887   56.475978    4.691005   25.055718  -24.109261   40.494691   \n",
       "2   59.364663  135.363798    8.738125 -230.546109  -64.165901   44.707145   \n",
       "3  130.540487 -179.069750 -162.753651  186.454959  -83.455588  111.176278   \n",
       "4  -90.711789   22.392556  -34.422966   29.394924  239.281881   87.875643   \n",
       "\n",
       "           x6          x7          x8          x9 ...         x77         x78  \\\n",
       "0  -69.925000 -170.794257    4.700090  -37.450654 ...   -8.190191 -130.790723   \n",
       "1  -24.957179   78.826808   20.406328 -154.819065 ... -145.782270  172.963008   \n",
       "2  118.020542  -16.104418 -100.232442  -13.946875 ...   17.167181  133.182149   \n",
       "3 -111.795029  -40.722315  -96.985559  -14.968255 ...  -23.586438  -29.647693   \n",
       "4  278.308433 -137.790240 -149.847192   42.253248 ...  -65.456597  -65.352376   \n",
       "\n",
       "          x79         x80         x81         x82         x83         x84  \\\n",
       "0 -291.170531 -159.849737   21.740255   79.064492 -276.751193  -56.137424   \n",
       "1  -34.117877  171.352331  136.684289  -87.906398   26.465475   -6.192313   \n",
       "2  -78.436530  111.984234 -121.356381 -125.426157  156.227858 -214.318785   \n",
       "3 -138.240733   -0.275365   -6.081906  112.670787   -6.034459 -138.083518   \n",
       "4  -43.566457 -134.971190  -36.724267  124.046678   55.541273  -16.342797   \n",
       "\n",
       "          x85  y  \n",
       "0  132.066655  2  \n",
       "1  -32.529201  1  \n",
       "2 -100.422450  4  \n",
       "3   46.181339  4  \n",
       "4  135.123925  3  \n",
       "\n",
       "[5 rows x 87 columns]"
      ]
     },
     "execution_count": 8,
     "metadata": {},
     "output_type": "execute_result"
    }
   ],
   "source": [
    "# look at train data\n",
    "df_train.head()\n",
    "\n",
    "#LAST COLUMN IS Y, this is reason for 87 feature"
   ]
  },
  {
   "cell_type": "markdown",
   "metadata": {
    "colab_type": "text",
    "id": "ArMb8fQ73uzl"
   },
   "source": [
    "Below we can see some of the statistics of our data, including the mean and std. However, this isn’t incredibly useful as from what we can tell by looking, each feature is rather similar in values. None seem to be incredible outliers from our initial inspection"
   ]
  },
  {
   "cell_type": "code",
   "execution_count": 9,
   "metadata": {
    "colab": {
     "base_uri": "https://localhost:8080/",
     "height": 195
    },
    "colab_type": "code",
    "id": "NQ-GcSNLkUxy",
    "outputId": "ad21f4d7-c76d-4a59-9fcb-21d586f35901"
   },
   "outputs": [
    {
     "data": {
      "text/html": [
       "<div>\n",
       "<style scoped>\n",
       "    .dataframe tbody tr th:only-of-type {\n",
       "        vertical-align: middle;\n",
       "    }\n",
       "\n",
       "    .dataframe tbody tr th {\n",
       "        vertical-align: top;\n",
       "    }\n",
       "\n",
       "    .dataframe thead th {\n",
       "        text-align: right;\n",
       "    }\n",
       "</style>\n",
       "<table border=\"1\" class=\"dataframe\">\n",
       "  <thead>\n",
       "    <tr style=\"text-align: right;\">\n",
       "      <th></th>\n",
       "      <th>count</th>\n",
       "      <th>mean</th>\n",
       "      <th>std</th>\n",
       "      <th>min</th>\n",
       "      <th>25%</th>\n",
       "      <th>50%</th>\n",
       "      <th>75%</th>\n",
       "      <th>max</th>\n",
       "    </tr>\n",
       "  </thead>\n",
       "  <tbody>\n",
       "    <tr>\n",
       "      <th>x0</th>\n",
       "      <td>8000.0</td>\n",
       "      <td>-2.013600</td>\n",
       "      <td>121.805569</td>\n",
       "      <td>-470.182558</td>\n",
       "      <td>-82.164370</td>\n",
       "      <td>-1.719846</td>\n",
       "      <td>79.591660</td>\n",
       "      <td>461.461548</td>\n",
       "    </tr>\n",
       "    <tr>\n",
       "      <th>x1</th>\n",
       "      <td>8000.0</td>\n",
       "      <td>2.104299</td>\n",
       "      <td>123.787413</td>\n",
       "      <td>-469.648166</td>\n",
       "      <td>-79.941279</td>\n",
       "      <td>4.327363</td>\n",
       "      <td>86.380056</td>\n",
       "      <td>465.512605</td>\n",
       "    </tr>\n",
       "    <tr>\n",
       "      <th>x2</th>\n",
       "      <td>8000.0</td>\n",
       "      <td>1.515670</td>\n",
       "      <td>122.742608</td>\n",
       "      <td>-430.703604</td>\n",
       "      <td>-81.396779</td>\n",
       "      <td>1.659623</td>\n",
       "      <td>84.262800</td>\n",
       "      <td>462.305307</td>\n",
       "    </tr>\n",
       "    <tr>\n",
       "      <th>x3</th>\n",
       "      <td>8000.0</td>\n",
       "      <td>1.231144</td>\n",
       "      <td>123.599219</td>\n",
       "      <td>-506.837444</td>\n",
       "      <td>-82.786523</td>\n",
       "      <td>1.437175</td>\n",
       "      <td>83.108836</td>\n",
       "      <td>532.349655</td>\n",
       "    </tr>\n",
       "    <tr>\n",
       "      <th>x4</th>\n",
       "      <td>8000.0</td>\n",
       "      <td>1.164738</td>\n",
       "      <td>122.609369</td>\n",
       "      <td>-436.695966</td>\n",
       "      <td>-83.385697</td>\n",
       "      <td>3.478205</td>\n",
       "      <td>83.010900</td>\n",
       "      <td>471.694180</td>\n",
       "    </tr>\n",
       "  </tbody>\n",
       "</table>\n",
       "</div>"
      ],
      "text/plain": [
       "     count      mean         std         min        25%       50%        75%  \\\n",
       "x0  8000.0 -2.013600  121.805569 -470.182558 -82.164370 -1.719846  79.591660   \n",
       "x1  8000.0  2.104299  123.787413 -469.648166 -79.941279  4.327363  86.380056   \n",
       "x2  8000.0  1.515670  122.742608 -430.703604 -81.396779  1.659623  84.262800   \n",
       "x3  8000.0  1.231144  123.599219 -506.837444 -82.786523  1.437175  83.108836   \n",
       "x4  8000.0  1.164738  122.609369 -436.695966 -83.385697  3.478205  83.010900   \n",
       "\n",
       "           max  \n",
       "x0  461.461548  \n",
       "x1  465.512605  \n",
       "x2  462.305307  \n",
       "x3  532.349655  \n",
       "x4  471.694180  "
      ]
     },
     "execution_count": 9,
     "metadata": {},
     "output_type": "execute_result"
    }
   ],
   "source": [
    "# get some summary stats on the training data\n",
    "df_train_stats = df_train.describe().transpose()\n",
    "\n",
    "df_train_stats.head()"
   ]
  },
  {
   "cell_type": "code",
   "execution_count": 10,
   "metadata": {
    "colab": {
     "base_uri": "https://localhost:8080/",
     "height": 195
    },
    "colab_type": "code",
    "id": "YkvpWbl4kUyD",
    "outputId": "16bcd0f2-37c2-4454-c831-90ccb8c0c9ee"
   },
   "outputs": [
    {
     "data": {
      "text/html": [
       "<div>\n",
       "<style scoped>\n",
       "    .dataframe tbody tr th:only-of-type {\n",
       "        vertical-align: middle;\n",
       "    }\n",
       "\n",
       "    .dataframe tbody tr th {\n",
       "        vertical-align: top;\n",
       "    }\n",
       "\n",
       "    .dataframe thead th {\n",
       "        text-align: right;\n",
       "    }\n",
       "</style>\n",
       "<table border=\"1\" class=\"dataframe\">\n",
       "  <thead>\n",
       "    <tr style=\"text-align: right;\">\n",
       "      <th></th>\n",
       "      <th>count</th>\n",
       "      <th>mean</th>\n",
       "      <th>std</th>\n",
       "      <th>min</th>\n",
       "      <th>25%</th>\n",
       "      <th>50%</th>\n",
       "      <th>75%</th>\n",
       "      <th>max</th>\n",
       "    </tr>\n",
       "  </thead>\n",
       "  <tbody>\n",
       "    <tr>\n",
       "      <th>x82</th>\n",
       "      <td>8000.0</td>\n",
       "      <td>2.528174</td>\n",
       "      <td>122.913630</td>\n",
       "      <td>-471.599643</td>\n",
       "      <td>-80.818256</td>\n",
       "      <td>0.706821</td>\n",
       "      <td>87.269979</td>\n",
       "      <td>502.984778</td>\n",
       "    </tr>\n",
       "    <tr>\n",
       "      <th>x83</th>\n",
       "      <td>8000.0</td>\n",
       "      <td>4.137801</td>\n",
       "      <td>122.293530</td>\n",
       "      <td>-453.801434</td>\n",
       "      <td>-78.851073</td>\n",
       "      <td>4.613930</td>\n",
       "      <td>86.983423</td>\n",
       "      <td>430.472479</td>\n",
       "    </tr>\n",
       "    <tr>\n",
       "      <th>x84</th>\n",
       "      <td>8000.0</td>\n",
       "      <td>-1.096063</td>\n",
       "      <td>123.521959</td>\n",
       "      <td>-537.471324</td>\n",
       "      <td>-84.672088</td>\n",
       "      <td>-1.568588</td>\n",
       "      <td>82.618555</td>\n",
       "      <td>441.352385</td>\n",
       "    </tr>\n",
       "    <tr>\n",
       "      <th>x85</th>\n",
       "      <td>8000.0</td>\n",
       "      <td>6.719380</td>\n",
       "      <td>122.521251</td>\n",
       "      <td>-439.102647</td>\n",
       "      <td>-75.003448</td>\n",
       "      <td>4.503986</td>\n",
       "      <td>89.309202</td>\n",
       "      <td>455.083726</td>\n",
       "    </tr>\n",
       "    <tr>\n",
       "      <th>y</th>\n",
       "      <td>8000.0</td>\n",
       "      <td>2.004750</td>\n",
       "      <td>1.412702</td>\n",
       "      <td>0.000000</td>\n",
       "      <td>1.000000</td>\n",
       "      <td>2.000000</td>\n",
       "      <td>3.000000</td>\n",
       "      <td>4.000000</td>\n",
       "    </tr>\n",
       "  </tbody>\n",
       "</table>\n",
       "</div>"
      ],
      "text/plain": [
       "      count      mean         std         min        25%       50%        75%  \\\n",
       "x82  8000.0  2.528174  122.913630 -471.599643 -80.818256  0.706821  87.269979   \n",
       "x83  8000.0  4.137801  122.293530 -453.801434 -78.851073  4.613930  86.983423   \n",
       "x84  8000.0 -1.096063  123.521959 -537.471324 -84.672088 -1.568588  82.618555   \n",
       "x85  8000.0  6.719380  122.521251 -439.102647 -75.003448  4.503986  89.309202   \n",
       "y    8000.0  2.004750    1.412702    0.000000   1.000000  2.000000   3.000000   \n",
       "\n",
       "            max  \n",
       "x82  502.984778  \n",
       "x83  430.472479  \n",
       "x84  441.352385  \n",
       "x85  455.083726  \n",
       "y      4.000000  "
      ]
     },
     "execution_count": 10,
     "metadata": {},
     "output_type": "execute_result"
    }
   ],
   "source": [
    "df_train_stats.tail()"
   ]
  },
  {
   "cell_type": "markdown",
   "metadata": {
    "colab_type": "text",
    "id": "WI-buWBg43Jp"
   },
   "source": [
    "To try get a bit of a better visualisation of the data, below I take five feature columns and the mean of their five clusters. Then I fit them to a barplot for visualising. We can see that features x81 and x20 and x43 have seemingly randomly distributed values for means across all five of the clusters, where features x81 and x23 have mostly positive means. This doesn’t tell us much of anything, however. Just that the data we’re working with has indeed got some variance when it comes to features mean values."
   ]
  },
  {
   "cell_type": "code",
   "execution_count": 5,
   "metadata": {
    "colab": {
     "base_uri": "https://localhost:8080/",
     "height": 1821
    },
    "colab_type": "code",
    "id": "duAy7gxGkUyR",
    "outputId": "c978ca22-aeda-478d-88f6-2419701ed40d"
   },
   "outputs": [
    {
     "data": {
      "image/png": "[encoded data removed]",
      "text/plain": [
       "<Figure size 432x288 with 1 Axes>"
      ]
     },
     "metadata": {
      "needs_background": "light"
     },
     "output_type": "display_data"
    },
    {
     "data": {
      "image/png": "[encoded data removed]",
      "text/plain": [
       "<Figure size 432x288 with 1 Axes>"
      ]
     },
     "metadata": {
      "needs_background": "light"
     },
     "output_type": "display_data"
    },
    {
     "data": {
      "image/png": "[encoded data removed]",
      "text/plain": [
       "<Figure size 432x288 with 1 Axes>"
      ]
     },
     "metadata": {
      "needs_background": "light"
     },
     "output_type": "display_data"
    },
    {
     "data": {
      "image/png": "[encoded data removed]",
      "text/plain": [
       "<Figure size 432x288 with 1 Axes>"
      ]
     },
     "metadata": {
      "needs_background": "light"
     },
     "output_type": "display_data"
    },
    {
     "data": {
      "image/png": "[encoded data removed]",
      "text/plain": [
       "<Figure size 432x288 with 1 Axes>"
      ]
     },
     "metadata": {
      "needs_background": "light"
     },
     "output_type": "display_data"
    }
   ],
   "source": [
    "for col in np.random.choice(feature_cols,5):\n",
    "    bar_plot = df_train.groupby('y').mean()[col].plot(kind='bar')\n",
    "    bar_plot.set_title(col)\n",
    "    bar_plot.set_ylabel(col)\n",
    "    plt.show()"
   ]
  },
  {
   "cell_type": "markdown",
   "metadata": {},
   "source": [
    "Here we try to go into a bit more detail, investigating various metrics of one of the clusters to see can we identify anything that would be telling of any traits about our data. The first thing I see is that we have a bell curve standard deviation which is to be expected. We have a bimodal graph for our mean, this strikes me as an interesting finding and we will keep it in mind in the future.\n"
   ]
  },
  {
   "cell_type": "code",
   "execution_count": 12,
   "metadata": {
    "colab": {
     "base_uri": "https://localhost:8080/",
     "height": 3123
    },
    "colab_type": "code",
    "id": "uVf6bCOZkUyb",
    "outputId": "b161d598-ddb3-407d-9522-8193402272cf"
   },
   "outputs": [
    {
     "name": "stdout",
     "output_type": "stream",
     "text": [
      "Plots for label=0\n"
     ]
    },
    {
     "data": {
      "image/png": "[encoded data removed]",
      "text/plain": [
       "<Figure size 432x288 with 2 Axes>"
      ]
     },
     "metadata": {
      "needs_background": "light"
     },
     "output_type": "display_data"
    },
    {
     "data": {
      "image/png": "[encoded data removed]",
      "text/plain": [
       "<Figure size 432x288 with 2 Axes>"
      ]
     },
     "metadata": {
      "needs_background": "light"
     },
     "output_type": "display_data"
    },
    {
     "data": {
      "image/png": "[encoded data removed]",
      "text/plain": [
       "<Figure size 432x288 with 2 Axes>"
      ]
     },
     "metadata": {
      "needs_background": "light"
     },
     "output_type": "display_data"
    },
    {
     "data": {
      "image/png": "[encoded data removed]",
      "text/plain": [
       "<Figure size 432x288 with 2 Axes>"
      ]
     },
     "metadata": {
      "needs_background": "light"
     },
     "output_type": "display_data"
    },
    {
     "data": {
      "image/png": "[encoded data removed]",
      "text/plain": [
       "<Figure size 432x288 with 2 Axes>"
      ]
     },
     "metadata": {
      "needs_background": "light"
     },
     "output_type": "display_data"
    },
    {
     "data": {
      "image/png": "[encoded data removed]",
      "text/plain": [
       "<Figure size 432x288 with 2 Axes>"
      ]
     },
     "metadata": {
      "needs_background": "light"
     },
     "output_type": "display_data"
    },
    {
     "data": {
      "image/png": "[encoded data removed]",
      "text/plain": [
       "<Figure size 432x288 with 2 Axes>"
      ]
     },
     "metadata": {
      "needs_background": "light"
     },
     "output_type": "display_data"
    },
    {
     "data": {
      "image/png": "[encoded data removed]",
      "text/plain": [
       "<Figure size 432x288 with 2 Axes>"
      ]
     },
     "metadata": {
      "needs_background": "light"
     },
     "output_type": "display_data"
    }
   ],
   "source": [
    "# get a list of our labels\n",
    "labels = np.sort(df_train['y'].unique())\n",
    "\n",
    "# get summary stats for each class and plot them\n",
    "for label in np.random.choice(labels,1):\n",
    "    print('Plots for label={}'.format(label))\n",
    "    df_train_stats = df_train.loc[df_train['y']==label].describe().transpose()\n",
    "    for col in df_train_stats.columns:\n",
    "        x = df_train_stats.loc[df_train_stats.index!='y'][col]\n",
    "        fig, (ax_box, ax_hist) = plt.subplots(2, sharex=True, gridspec_kw={\"height_ratios\": (.15, .85)})\n",
    "        sns.boxplot(x, ax=ax_box)\n",
    "        sns.distplot(x, ax=ax_hist)\n",
    "        ax_box.set(yticks=[])\n",
    "        sns.despine(ax=ax_hist)\n",
    "        sns.despine(ax=ax_box, left=True)\n",
    "        ax_box.set_title('Class {}'.format(label))\n",
    "        ax_hist.set_ylabel('Class {}'.format(label))\n",
    "        plt.show()"
   ]
  },
  {
   "cell_type": "markdown",
   "metadata": {},
   "source": [
    "I thought we should do some principal component analysis to perhaps get a better understanding of the data however we can see there are no gains to be made from dimensionality reduction. All of the X features seem to be linearly independent, meaning PCA is no use in this case."
   ]
  },
  {
   "cell_type": "code",
   "execution_count": 7,
   "metadata": {
    "colab": {
     "base_uri": "https://localhost:8080/",
     "height": 373
    },
    "colab_type": "code",
    "id": "Ve4USrmEkUyr",
    "outputId": "f1259dd7-70e4-42a4-b7ac-8db118df0c70"
   },
   "outputs": [
    {
     "data": {
      "image/png": "[encoded data removed]",
      "text/plain": [
       "<Figure size 432x288 with 1 Axes>"
      ]
     },
     "metadata": {
      "needs_background": "light"
     },
     "output_type": "display_data"
    }
   ],
   "source": [
    "# lets try some pca to explore potential for dimensionality reduction\n",
    "#Explained variance\n",
    "pca = PCA().fit(X_train)\n",
    "plt.plot(np.cumsum(pca.explained_variance_ratio_))\n",
    "plt.xlabel('number of components')\n",
    "plt.ylabel('cumulative explained variance')\n",
    "plt.show()"
   ]
  },
  {
   "cell_type": "markdown",
   "metadata": {
    "colab_type": "text",
    "id": "y4CB0g7ZkUy1"
   },
   "source": [
    "## 2.1 Data Preprocessing\n",
    "Here we will begin to create our model, first we must pre-process our X data by scaling it using standard scaler. We then change our Y data from integer data to categorical data."
   ]
  },
  {
   "cell_type": "code",
   "execution_count": 16,
   "metadata": {
    "colab": {
     "base_uri": "https://localhost:8080/",
     "height": 269
    },
    "colab_type": "code",
    "id": "YZ7PBT16kUy4",
    "outputId": "707bd012-a9e7-43fd-9c71-64c8f03b1e84"
   },
   "outputs": [
    {
     "name": "stdout",
     "output_type": "stream",
     "text": [
      "[ 0.61896728  1.02563595  1.48825477 -0.17468877  2.67908093 -0.0707628\n",
      "  0.64576425  0.05723247  0.25244996  1.00274987 -0.99938477 -0.66729716\n",
      "  0.31688229 -0.43279074 -1.6579501  -0.03142586 -0.37998202 -0.16443403\n",
      "  1.25627562  0.32032638 -0.7575468  -1.56800392  1.02829127  1.84963375\n",
      "  0.18132207 -1.48180239  0.66888632 -1.55290968 -0.3973739   0.04289814\n",
      " -1.1618166   0.18617478  1.65517438 -0.18362228  2.57160105  0.36812136\n",
      " -0.31647816 -1.0211212   1.43148498  1.10339725 -1.42151498 -1.25136737\n",
      " -0.46710898  1.49909626  0.87299083  0.52239656 -2.2951129   0.51265517\n",
      " -0.6377612   0.85184303 -0.17122559 -0.84224343  1.62802435  1.10991675\n",
      "  0.54861579 -0.69550971  0.58029045  0.89203973  2.02645436 -0.79362245\n",
      "  0.73020211  0.77285017  1.80577549  0.51429053 -0.55852925 -0.21274165\n",
      "  0.21085743  0.68624324 -1.06254346  2.14072256  0.37168474  1.33120279\n",
      "  1.26006171 -1.41253107  0.06124681  0.87456934 -0.19930392 -0.68399601\n",
      " -1.12400775  0.34854407  0.35006277  0.07959453  1.25263186 -1.60146033\n",
      "  0.20707275  0.38646466]\n"
     ]
    }
   ],
   "source": [
    "# preprocess data by scaling it\n",
    "scaler = StandardScaler()\n",
    "X_train_scaled = scaler.fit_transform(X_train)\n",
    "X_test_scaled = scaler.transform(X_test)\n",
    "\n",
    "\n",
    "# enocde values to categorical from Int. \n",
    "y_train_encoded = np_utils.to_categorical(y_train)\n",
    "y_test_encoded = np_utils.to_categorical(y_test)\n",
    "\n",
    "\n",
    "print(X_train_scaled[0])"
   ]
  },
  {
   "cell_type": "markdown",
   "metadata": {
    "colab_type": "text",
    "id": "87jUJRPFyhXE"
   },
   "source": [
    "## 2.2 Creating Initial Model\n",
    "\n",
    "After playing around with the network topology for a while and checking accuracies. I landed on using 7 hidden dense layers. I also stuck with Adam as I was seeing promising results using this optimizer over a few others I tested, however Adamax and Nadam were also showing decent results. This seemed to provide the best learning model as far as I could tell at this point. We are using Relu activation function and our number of neurons starts at 1000, then progressively lowers to 750, 250 then to 100. We have three layers with 100 neurons as I found this helped, then to 50, 20 and finally 5 for our classification using activation function SoftMax. Due to having 5 classes, we shall be using categorical cross entropy for our loss when compiling our model. I make use of Keras ModelCheckpoint to checkpoint any improvements in my weights and fit the model with a validation split of 20%. I was initially using 10 epochs with the default batch size of 32. We can see from the graph that is plotted below the code cell that the model quickly becomes overfitted as it begins to learn the data. Straight away from seeing this graph my initial thoughts were to reduce overfitting. \n"
   ]
  },
  {
   "cell_type": "code",
   "execution_count": 7,
   "metadata": {
    "colab": {
     "base_uri": "https://localhost:8080/",
     "height": 1191
    },
    "colab_type": "code",
    "id": "vLfaGsyNkUzA",
    "outputId": "6a320dba-ce1d-40b3-fc45-46885d065499"
   },
   "outputs": [
    {
     "name": "stdout",
     "output_type": "stream",
     "text": [
      "WARNING:tensorflow:From C:\\Users\\dnlma\\Anaconda3\\lib\\site-packages\\tensorflow\\python\\framework\\op_def_library.py:263: colocate_with (from tensorflow.python.framework.ops) is deprecated and will be removed in a future version.\n",
      "Instructions for updating:\n",
      "Colocations handled automatically by placer.\n",
      "WARNING:tensorflow:From C:\\Users\\dnlma\\Anaconda3\\lib\\site-packages\\tensorflow\\python\\ops\\math_ops.py:3066: to_int32 (from tensorflow.python.ops.math_ops) is deprecated and will be removed in a future version.\n",
      "Instructions for updating:\n",
      "Use tf.cast instead.\n",
      "Train on 64000 samples, validate on 16000 samples\n",
      "Epoch 1/10\n",
      "64000/64000 [==============================] - 24s 370us/step - loss: 1.5934 - acc: 0.2472 - val_loss: 1.5789 - val_acc: 0.2644\n",
      "\n",
      "Epoch 00001: val_acc improved from -inf to 0.26444, saving model to testmodel-weightsImprovment.hdf5\n",
      "Epoch 2/10\n",
      "64000/64000 [==============================] - 24s 381us/step - loss: 1.5738 - acc: 0.2763 - val_loss: 1.5732 - val_acc: 0.2843\n",
      "\n",
      "Epoch 00002: val_acc improved from 0.26444 to 0.28431, saving model to testmodel-weightsImprovment.hdf5\n",
      "Epoch 3/10\n",
      "64000/64000 [==============================] - 24s 372us/step - loss: 1.5639 - acc: 0.2954 - val_loss: 1.5717 - val_acc: 0.2859\n",
      "\n",
      "Epoch 00003: val_acc improved from 0.28431 to 0.28587, saving model to testmodel-weightsImprovment.hdf5\n",
      "Epoch 4/10\n",
      "64000/64000 [==============================] - 24s 373us/step - loss: 1.5541 - acc: 0.3074 - val_loss: 1.5730 - val_acc: 0.2871\n",
      "\n",
      "Epoch 00004: val_acc improved from 0.28587 to 0.28713, saving model to testmodel-weightsImprovment.hdf5\n",
      "Epoch 5/10\n",
      "64000/64000 [==============================] - 24s 382us/step - loss: 1.5419 - acc: 0.3168 - val_loss: 1.5724 - val_acc: 0.2882\n",
      "\n",
      "Epoch 00005: val_acc improved from 0.28713 to 0.28819, saving model to testmodel-weightsImprovment.hdf5\n",
      "Epoch 6/10\n",
      "64000/64000 [==============================] - 24s 373us/step - loss: 1.5274 - acc: 0.3292 - val_loss: 1.5788 - val_acc: 0.2860\n",
      "\n",
      "Epoch 00006: val_acc did not improve from 0.28819\n",
      "Epoch 7/10\n",
      "64000/64000 [==============================] - 24s 372us/step - loss: 1.5065 - acc: 0.3477 - val_loss: 1.5849 - val_acc: 0.2848\n",
      "\n",
      "Epoch 00007: val_acc did not improve from 0.28819\n",
      "Epoch 8/10\n",
      "64000/64000 [==============================] - 24s 373us/step - loss: 1.4794 - acc: 0.3658 - val_loss: 1.6098 - val_acc: 0.2781\n",
      "\n",
      "Epoch 00008: val_acc did not improve from 0.28819\n",
      "Epoch 9/10\n",
      "64000/64000 [==============================] - 25s 388us/step - loss: 1.4447 - acc: 0.3895 - val_loss: 1.6370 - val_acc: 0.2776\n",
      "\n",
      "Epoch 00009: val_acc did not improve from 0.28819\n",
      "Epoch 10/10\n",
      "64000/64000 [==============================] - 25s 396us/step - loss: 1.4042 - acc: 0.4123 - val_loss: 1.6590 - val_acc: 0.2743\n",
      "\n",
      "Epoch 00010: val_acc did not improve from 0.28819\n"
     ]
    },
    {
     "data": {
      "image/png": "[encoded data removed]",
      "text/plain": [
       "<Figure size 432x288 with 1 Axes>"
      ]
     },
     "metadata": {
      "needs_background": "light"
     },
     "output_type": "display_data"
    }
   ],
   "source": [
    "adam = optimizers.Adam()\n",
    "\n",
    "#input_dim == 86 features\n",
    "# creating our inital model\n",
    "# after a lot of playing with the network topology, I landed on using \n",
    "# 7 hidden layers with between 1000 and 20 neurons. Using relu for activation\n",
    "def create_model(optimizer):  \n",
    "  model = Sequential() \n",
    "  model.add(Dense(1000, input_dim=n_features, activation='relu')) \n",
    "  model.add(Dense(750, activation='relu'))\n",
    "  model.add(Dense(250, activation='relu'))\n",
    "  model.add(Dense(100, activation='relu'))\n",
    "  model.add(Dense(100, activation='relu'))\n",
    "  model.add(Dense(100, activation='relu'))\n",
    "  model.add(Dense(50, activation='relu'))\n",
    "  model.add(Dense(20, activation='relu'))\n",
    "  model.add(Dense(n_class, activation='softmax'))\n",
    "  \n",
    "  # compile model (using categorical crossentropy as we have 5 classes)\n",
    "  model.compile(loss='categorical_crossentropy', optimizer=optimizer, metrics=['accuracy'])\n",
    "  \n",
    "  return model\n",
    "\n",
    "model = create_model(adam)\n",
    "\n",
    "\n",
    "# checkpointing\n",
    "filepath=\"testmodel-weightsImprovment.hdf5\"\n",
    "checkpoint = ModelCheckpoint(filepath, monitor='val_acc', verbose=1, save_best_only=True, mode='max')\n",
    "callbacks_list = [checkpoint]\n",
    "\n",
    "history = model.fit(X_train_scaled, y_train_encoded, validation_split=0.2, epochs=10, batch_size=32, callbacks=callbacks_list)\n",
    "\n",
    "# summarize history for accuracy \n",
    "plt.plot(history.history['acc']) \n",
    "plt.plot(history.history['val_acc']) \n",
    "plt.title('model accuracy') \n",
    "plt.ylabel('accuracy') \n",
    "plt.xlabel('epoch') \n",
    "plt.legend(['train', 'test'], loc='upper left') \n",
    "plt.show()"
   ]
  },
  {
   "cell_type": "markdown",
   "metadata": {},
   "source": [
    "## 2.3 Baseline Model Comparison\n",
    "\n",
    "I decided it would be a good idea to make use of sklearns dummy classifier model to test against my chosen network topology and see how it stacks up. The dummy classifier will provide us with an idea of baseline performance, for example, a success rate that you should expect to receive by simply guessing. I was quite happy with the results of this experiment as my model outperformed the dummy classifier by roughly 8% accuracy, meaning my model was working. Our dummy classifer had a test accuracy score of 19.5% and our model had a test accuracy score of 27.2%! Taking into consideration the size and size of parameters of our blob dataset, and the nature of generated isotropic gaussian blob data in general, this is quite a good result to achieve. I was happy with our initial network topology after this comparison, and decided it was time to move onto finer hyperparameter tuning using GridSearchCV."
   ]
  },
  {
   "cell_type": "code",
   "execution_count": 8,
   "metadata": {
    "colab": {
     "base_uri": "https://localhost:8080/",
     "height": 588
    },
    "colab_type": "code",
    "id": "AMlvHowbkUzP",
    "outputId": "d5a0ba7b-e9b1-4635-f16b-447d781a179f"
   },
   "outputs": [
    {
     "name": "stdout",
     "output_type": "stream",
     "text": [
      "Train Performance\n",
      "Dummy -> Acc: 0.198725\n",
      "Model -> Acc: 0.432175\n",
      "Test Performance\n",
      "Dummy -> Acc: 0.198\n",
      "Model -> Acc: 0.2764\n",
      "\n",
      "Classification Report\n",
      "Dummy ->\n",
      "              precision    recall  f1-score   support\n",
      "\n",
      "           0       0.20      0.53      0.29      4007\n",
      "           1       0.20      0.16      0.18      3968\n",
      "           2       0.19      0.12      0.15      3957\n",
      "           3       0.20      0.10      0.14      4027\n",
      "           4       0.19      0.08      0.11      4041\n",
      "\n",
      "   micro avg       0.20      0.20      0.20     20000\n",
      "   macro avg       0.20      0.20      0.17     20000\n",
      "weighted avg       0.20      0.20      0.17     20000\n",
      "\n",
      "Model ->\n",
      "              precision    recall  f1-score   support\n",
      "\n",
      "           0       0.27      0.32      0.29      4007\n",
      "           1       0.27      0.32      0.30      3968\n",
      "           2       0.29      0.25      0.27      3957\n",
      "           3       0.26      0.26      0.26      4027\n",
      "           4       0.30      0.23      0.26      4041\n",
      "\n",
      "   micro avg       0.28      0.28      0.28     20000\n",
      "   macro avg       0.28      0.28      0.28     20000\n",
      "weighted avg       0.28      0.28      0.28     20000\n",
      "\n"
     ]
    }
   ],
   "source": [
    "from sklearn.dummy import DummyClassifier\n",
    "from sklearn.metrics import roc_auc_score, accuracy_score, roc_curve, classification_report\n",
    "import numpy as np \n",
    "\n",
    "\n",
    "dummy = DummyClassifier()\n",
    "dummy.fit(X_train_scaled, y_train_encoded)\n",
    "\n",
    "y_train_pred_dummy = dummy.predict(X_train_scaled)\n",
    "y_train_pred_dummy = np.argmax(y_train_pred_dummy, axis=1)\n",
    "y_train_pred_model = model.predict(X_train_scaled)\n",
    "y_train_pred_model = np.argmax(y_train_pred_model, axis=1)\n",
    "\n",
    "y_test_pred_dummy = dummy.predict(X_test_scaled)\n",
    "y_test_pred_dummy = np.argmax(y_test_pred_dummy, axis=1)\n",
    "y_test_pred_model = model.predict(X_test_scaled)\n",
    "y_test_pred_model = np.argmax(y_test_pred_model, axis=1)\n",
    "\n",
    "print('Train Performance')\n",
    "print('Dummy -> Acc:', accuracy_score(y_train, y_train_pred_dummy) )\n",
    "print('Model -> Acc:', accuracy_score(y_train, y_train_pred_model) )\n",
    "\n",
    "print('Test Performance')\n",
    "print('Dummy -> Acc:', accuracy_score(y_test, y_test_pred_dummy) )\n",
    "print('Model -> Acc:', accuracy_score(y_test, y_test_pred_model) )\n",
    "\n",
    "print('')\n",
    "print('Classification Report')\n",
    "print('Dummy ->')\n",
    "print(classification_report(y_test, y_test_pred_dummy))\n",
    "print('Model ->')\n",
    "print(classification_report(y_test, y_test_pred_model))\n",
    "\n",
    "#here we see our model has a near 50% increase \n",
    "#in test accuracy performance over our dummy classifier"
   ]
  },
  {
   "cell_type": "markdown",
   "metadata": {
    "colab_type": "text",
    "id": "8jHB7rmVxCa1"
   },
   "source": [
    "## 3.1 Hyperparameter investigation"
   ]
  },
  {
   "cell_type": "markdown",
   "metadata": {
    "colab_type": "text",
    "id": "UHe-mqhd_Xd9"
   },
   "source": [
    "### 3.1.1 Grid Search\n",
    "From looking at our previously plotted graph using our initial model, we can tell the model is becoming overfitted, we want to try our best to reduce this if we can. This led me to thinking about adding dropout layers after our dense layers to try combat this issue. I also thought that we could maybe try out the three different optimizers that I found were outputting the best results for me. I also wanted to try a few different learning rates to see if we could get our optimizers to train our model more accurately with dropout in the equation. So I created a parameter grid for our grid search, made up of my three choices of optimizer, a few logarithmic learning rates and some drop out values (including a drop out rate of 0 just in case drop out layers proved to be of no benefit to model accuracy). We ran the grid search locally utilizing n_jobs parameter and setting it to -1 to run the grid search using all 12 threads of my CPU’s 6 cores. We also made sure to set a safe value for pre_dispatch parameter (I went with 8 in this case) to make sure we avoided running into a nasty memory leak as I found this was a problem initially, unfortunately resulting in a couple of failed grid searches. Thankfully (after a few hours) our grid search completed, giving us a best accuracy of 29.5% using the following parameters\n",
    "*\t0.0 dropout rate\n",
    "*\t0.0001 learning rate\n",
    "*\tAdamax optimizer\n",
    "\n",
    "To my surprise, our dropout layers didn’t help combat overfitting at all, and gave us poorer accuracy in general.\n"
   ]
  },
  {
   "cell_type": "code",
   "execution_count": 7,
   "metadata": {
    "colab": {},
    "colab_type": "code",
    "id": "HDy16xNaUauM"
   },
   "outputs": [
    {
     "name": "stdout",
     "output_type": "stream",
     "text": [
      "Train on 53599 samples, validate on 26401 samples\n",
      "Epoch 1/6\n",
      "53599/53599 [==============================] - 6s 115us/step - loss: 1.6065 - acc: 0.2065 - val_loss: 1.6010 - val_acc: 0.2165\n",
      "Epoch 2/6\n",
      "53599/53599 [==============================] - 5s 100us/step - loss: 1.5924 - acc: 0.2408 - val_loss: 1.5922 - val_acc: 0.2611\n",
      "Epoch 3/6\n",
      "53599/53599 [==============================] - 5s 102us/step - loss: 1.5779 - acc: 0.2791 - val_loss: 1.5833 - val_acc: 0.2736\n",
      "Epoch 4/6\n",
      "53599/53599 [==============================] - 5s 100us/step - loss: 1.5613 - acc: 0.2974 - val_loss: 1.5741 - val_acc: 0.2789\n",
      "Epoch 5/6\n",
      "53599/53599 [==============================] - 5s 102us/step - loss: 1.5457 - acc: 0.3103 - val_loss: 1.5699 - val_acc: 0.2838\n",
      "Epoch 6/6\n",
      "53599/53599 [==============================] - 5s 100us/step - loss: 1.5308 - acc: 0.3214 - val_loss: 1.5672 - val_acc: 0.2862\n",
      "Best: 0.295812 using {'dropout_rate': 0.0, 'learning_rate': 0.0001, 'optimizer': <class 'keras.optimizers.Adamax'>}\n",
      "0.200775 (0.002090) with: {'dropout_rate': 0.0, 'learning_rate': 0.2, 'optimizer': <class 'keras.optimizers.Adam'>}\n",
      "0.200362 (0.001792) with: {'dropout_rate': 0.0, 'learning_rate': 0.2, 'optimizer': <class 'keras.optimizers.Adamax'>}\n",
      "0.200775 (0.002090) with: {'dropout_rate': 0.0, 'learning_rate': 0.2, 'optimizer': <class 'keras.optimizers.Nadam'>}\n",
      "0.198325 (0.002032) with: {'dropout_rate': 0.0, 'learning_rate': 0.1, 'optimizer': <class 'keras.optimizers.Adam'>}\n",
      "0.198237 (0.002011) with: {'dropout_rate': 0.0, 'learning_rate': 0.1, 'optimizer': <class 'keras.optimizers.Adamax'>}\n",
      "0.199437 (0.001396) with: {'dropout_rate': 0.0, 'learning_rate': 0.1, 'optimizer': <class 'keras.optimizers.Nadam'>}\n",
      "0.212425 (0.018602) with: {'dropout_rate': 0.0, 'learning_rate': 0.01, 'optimizer': <class 'keras.optimizers.Adam'>}\n",
      "0.289650 (0.000978) with: {'dropout_rate': 0.0, 'learning_rate': 0.01, 'optimizer': <class 'keras.optimizers.Adamax'>}\n",
      "0.199387 (0.002965) with: {'dropout_rate': 0.0, 'learning_rate': 0.01, 'optimizer': <class 'keras.optimizers.Nadam'>}\n",
      "0.276337 (0.004300) with: {'dropout_rate': 0.0, 'learning_rate': 0.001, 'optimizer': <class 'keras.optimizers.Adam'>}\n",
      "0.265750 (0.003403) with: {'dropout_rate': 0.0, 'learning_rate': 0.001, 'optimizer': <class 'keras.optimizers.Adamax'>}\n",
      "0.273925 (0.001959) with: {'dropout_rate': 0.0, 'learning_rate': 0.001, 'optimizer': <class 'keras.optimizers.Nadam'>}\n",
      "0.284637 (0.001740) with: {'dropout_rate': 0.0, 'learning_rate': 0.0001, 'optimizer': <class 'keras.optimizers.Adam'>}\n",
      "0.295812 (0.002713) with: {'dropout_rate': 0.0, 'learning_rate': 0.0001, 'optimizer': <class 'keras.optimizers.Adamax'>}\n",
      "0.280950 (0.006101) with: {'dropout_rate': 0.0, 'learning_rate': 0.0001, 'optimizer': <class 'keras.optimizers.Nadam'>}\n",
      "0.200237 (0.004124) with: {'dropout_rate': 0.3, 'learning_rate': 0.2, 'optimizer': <class 'keras.optimizers.Adam'>}\n",
      "0.203187 (0.002110) with: {'dropout_rate': 0.3, 'learning_rate': 0.2, 'optimizer': <class 'keras.optimizers.Adamax'>}\n",
      "0.199025 (0.000628) with: {'dropout_rate': 0.3, 'learning_rate': 0.2, 'optimizer': <class 'keras.optimizers.Nadam'>}\n",
      "0.198000 (0.001716) with: {'dropout_rate': 0.3, 'learning_rate': 0.1, 'optimizer': <class 'keras.optimizers.Adam'>}\n",
      "0.200775 (0.002090) with: {'dropout_rate': 0.3, 'learning_rate': 0.1, 'optimizer': <class 'keras.optimizers.Adamax'>}\n",
      "0.198975 (0.000449) with: {'dropout_rate': 0.3, 'learning_rate': 0.1, 'optimizer': <class 'keras.optimizers.Nadam'>}\n",
      "0.199012 (0.000641) with: {'dropout_rate': 0.3, 'learning_rate': 0.01, 'optimizer': <class 'keras.optimizers.Adam'>}\n",
      "0.228812 (0.004143) with: {'dropout_rate': 0.3, 'learning_rate': 0.01, 'optimizer': <class 'keras.optimizers.Adamax'>}\n",
      "0.199487 (0.001365) with: {'dropout_rate': 0.3, 'learning_rate': 0.01, 'optimizer': <class 'keras.optimizers.Nadam'>}\n",
      "0.245600 (0.003446) with: {'dropout_rate': 0.3, 'learning_rate': 0.001, 'optimizer': <class 'keras.optimizers.Adam'>}\n",
      "0.227450 (0.020395) with: {'dropout_rate': 0.3, 'learning_rate': 0.001, 'optimizer': <class 'keras.optimizers.Adamax'>}\n",
      "0.229912 (0.016630) with: {'dropout_rate': 0.3, 'learning_rate': 0.001, 'optimizer': <class 'keras.optimizers.Nadam'>}\n",
      "0.203900 (0.002685) with: {'dropout_rate': 0.3, 'learning_rate': 0.0001, 'optimizer': <class 'keras.optimizers.Adam'>}\n",
      "0.209075 (0.004950) with: {'dropout_rate': 0.3, 'learning_rate': 0.0001, 'optimizer': <class 'keras.optimizers.Adamax'>}\n",
      "0.203325 (0.005805) with: {'dropout_rate': 0.3, 'learning_rate': 0.0001, 'optimizer': <class 'keras.optimizers.Nadam'>}\n",
      "0.200300 (0.002249) with: {'dropout_rate': 0.55, 'learning_rate': 0.2, 'optimizer': <class 'keras.optimizers.Adam'>}\n",
      "0.201900 (0.002856) with: {'dropout_rate': 0.55, 'learning_rate': 0.2, 'optimizer': <class 'keras.optimizers.Adamax'>}\n",
      "0.200450 (0.002185) with: {'dropout_rate': 0.55, 'learning_rate': 0.2, 'optimizer': <class 'keras.optimizers.Nadam'>}\n",
      "0.199437 (0.000412) with: {'dropout_rate': 0.55, 'learning_rate': 0.1, 'optimizer': <class 'keras.optimizers.Adam'>}\n",
      "0.199512 (0.001345) with: {'dropout_rate': 0.55, 'learning_rate': 0.1, 'optimizer': <class 'keras.optimizers.Adamax'>}\n",
      "0.199462 (0.001377) with: {'dropout_rate': 0.55, 'learning_rate': 0.1, 'optimizer': <class 'keras.optimizers.Nadam'>}\n",
      "0.199962 (0.004191) with: {'dropout_rate': 0.55, 'learning_rate': 0.01, 'optimizer': <class 'keras.optimizers.Adam'>}\n",
      "0.200175 (0.001149) with: {'dropout_rate': 0.55, 'learning_rate': 0.01, 'optimizer': <class 'keras.optimizers.Adamax'>}\n",
      "0.201350 (0.003070) with: {'dropout_rate': 0.55, 'learning_rate': 0.01, 'optimizer': <class 'keras.optimizers.Nadam'>}\n",
      "0.200462 (0.001756) with: {'dropout_rate': 0.55, 'learning_rate': 0.001, 'optimizer': <class 'keras.optimizers.Adam'>}\n",
      "0.199350 (0.000528) with: {'dropout_rate': 0.55, 'learning_rate': 0.001, 'optimizer': <class 'keras.optimizers.Adamax'>}\n",
      "0.199350 (0.000528) with: {'dropout_rate': 0.55, 'learning_rate': 0.001, 'optimizer': <class 'keras.optimizers.Nadam'>}\n",
      "0.199350 (0.000528) with: {'dropout_rate': 0.55, 'learning_rate': 0.0001, 'optimizer': <class 'keras.optimizers.Adam'>}\n",
      "0.199025 (0.000628) with: {'dropout_rate': 0.55, 'learning_rate': 0.0001, 'optimizer': <class 'keras.optimizers.Adamax'>}\n",
      "0.200375 (0.001848) with: {'dropout_rate': 0.55, 'learning_rate': 0.0001, 'optimizer': <class 'keras.optimizers.Nadam'>}\n"
     ]
    }
   ],
   "source": [
    "#################################################\n",
    "pd.options.display.max_rows = 10000\n",
    "\n",
    "# Function to create model, required for KerasClassifier\n",
    "def create_model(optimizer, learning_rate, dropout_rate):\n",
    "  model = Sequential() \n",
    "  model.add(Dense(1000, input_dim=n_features, activation='relu')) \n",
    "  model.add(Dropout(dropout_rate))\n",
    "  model.add(Dense(750, activation='relu'))\n",
    "  model.add(Dropout(dropout_rate))\n",
    "  model.add(Dense(250, activation='relu'))\n",
    "  model.add(Dropout(dropout_rate))\n",
    "  model.add(Dense(100, activation='relu'))\n",
    "  model.add(Dropout(dropout_rate))\n",
    "  model.add(Dense(100, activation='relu'))\n",
    "  model.add(Dropout(dropout_rate))\n",
    "  model.add(Dense(100, activation='relu'))\n",
    "  model.add(Dropout(dropout_rate))\n",
    "  model.add(Dense(50, activation='relu'))\n",
    "  model.add(Dropout(dropout_rate))\n",
    "  model.add(Dense(20, activation='relu'))\n",
    "  model.add(Dropout(dropout_rate))\n",
    "  model.add(Dense(n_class, activation='softmax'))\n",
    "    \n",
    "  # compile model (using categorical crossentropy as we have 5 classes)\n",
    "  model.compile(loss='categorical_crossentropy', optimizer=optimizer(lr=learning_rate), metrics=['accuracy'])\n",
    "  \n",
    "  return model\n",
    "\n",
    "modelGrid2 = KerasClassifier(build_fn=create_model, epochs=6, batch_size=200, verbose=1)\n",
    "\n",
    "# define the grid search parameters\n",
    "optimizer = [optimizers.Adam, optimizers.Adamax, optimizers.Nadam] \n",
    "learning_rate = [0.2, 0.1, 0.01, 0.001, 0.0001] \n",
    "dropout_rate = [0.0, 0.3, 0.55] # added value 0.55 as this is the computing student dropout rate in ireland :)\n",
    "param_grid = dict(optimizer=optimizer,\n",
    "                 learning_rate=learning_rate,\n",
    "                 dropout_rate=dropout_rate)\n",
    "\n",
    "# checkpointing (DOESN'T WORK FOR GRIDSEARCH)\n",
    "# filepath=\"weights-improvement-SECOND-GRIDSEARCH.hdf5\"\n",
    "# checkpoint_grid = ModelCheckpoint(filepath, monitor='val_acc', verbose=1, save_best_only=True, mode='max')\n",
    "# callbacks_list_grid = [checkpoint_grid]\n",
    "\n",
    "\n",
    "grid = GridSearchCV(estimator=modelGrid2, param_grid=param_grid, n_jobs=-1, pre_dispatch=8) #n_jobs=-1 doesn't work colab\n",
    "grid_result = grid.fit(X_train_scaled, y_train_encoded, validation_split=0.2)\n",
    "\n",
    "\n",
    "# summarize results\n",
    "print(\"Best: %f using %s\" % (grid_result.best_score_, grid_result.best_params_))\n",
    "means = grid_result.cv_results_['mean_test_score']\n",
    "stds = grid_result.cv_results_['std_test_score']\n",
    "params = grid_result.cv_results_['params']\n",
    "for mean, stdev, param in zip(means, stds, params):\n",
    "    print(\"%f (%f) with: %r\" % (mean, stdev, param))"
   ]
  },
  {
   "cell_type": "markdown",
   "metadata": {},
   "source": [
    "### 3.1.2 Second Grid Search\n",
    "After reaching our optimal parameters from the last grid search, it appeared that using dropout layers had proved to not be of any benefit to our model training. Due to this we cut out the dropout layers and decided to do a grid search for optimal batch size and epochs using our best optimizer, Adamax. "
   ]
  },
  {
   "cell_type": "code",
   "execution_count": 10,
   "metadata": {
    "colab": {
     "base_uri": "https://localhost:8080/",
     "height": 70
    },
    "colab_type": "code",
    "id": "NhePFyuWkUzr",
    "outputId": "9c69abd7-76b1-43fc-b377-2bd8cdecb74c"
   },
   "outputs": [
    {
     "name": "stderr",
     "output_type": "stream",
     "text": [
      "C:\\Users\\dnlma\\Anaconda3\\lib\\site-packages\\sklearn\\model_selection\\_split.py:2053: FutureWarning: You should specify a value for 'cv' instead of relying on the default value. The default value will change from 3 to 5 in version 0.22.\n",
      "  warnings.warn(CV_WARNING, FutureWarning)\n"
     ]
    },
    {
     "name": "stdout",
     "output_type": "stream",
     "text": [
      "Train on 64000 samples, validate on 16000 samples\n",
      "Epoch 1/2\n",
      "64000/64000 [==============================] - 15s 233us/step - loss: 1.5804 - acc: 0.2685 - val_loss: 1.5610 - val_acc: 0.2971\n",
      "Epoch 2/2\n",
      "64000/64000 [==============================] - 14s 219us/step - loss: 1.5466 - acc: 0.3087 - val_loss: 1.5524 - val_acc: 0.3026\n"
     ]
    }
   ],
   "source": [
    "# checkpointing\n",
    "#filepath=\"/content/gdrive/My Drive/weights-improvement-GRIDSEARCH-{epoch:02d}-{val_acc:.2f}.hdf5\"\n",
    "#checkpoint_grid = ModelCheckpoint(filepath, monitor='val_acc', verbose=1, save_best_only=True, mode='max')\n",
    "#callbacks_list_grid = [checkpoint_grid]\n",
    "\n",
    "def create_test_model(optimizer):  \n",
    "  model = Sequential() \n",
    "  model.add(Dense(1000, input_dim=n_features, activation='relu')) \n",
    "  model.add(Dense(750, activation='relu'))\n",
    "  model.add(Dense(250, activation='relu'))\n",
    "  model.add(Dense(100, activation='relu'))\n",
    "  model.add(Dense(100, activation='relu'))\n",
    "  model.add(Dense(100, activation='relu'))\n",
    "  model.add(Dense(50, activation='relu'))\n",
    "  model.add(Dense(20, activation='relu'))\n",
    "  model.add(Dense(n_class, activation='softmax'))\n",
    "  \n",
    "  # compile model (using categorical crossentropy as we have 5 classes)\n",
    "  model.compile(loss='categorical_crossentropy', optimizer=optimizer(lr=0.0001), metrics=['accuracy'])\n",
    "  \n",
    "  return model\n",
    "\n",
    "\n",
    "optimizer = [optimizers.Adamax]\n",
    "batch_size = [10, 20, 50, 100, 200]\n",
    "epochs = [2, 6, 10]\n",
    "param_grid = dict(epochs=epochs, \n",
    "                  batch_size=batch_size, \n",
    "                  optimizer=optimizer)\n",
    "\n",
    "\n",
    "\n",
    "modelGrid = KerasClassifier(build_fn=create_test_model , verbose=1)\n",
    "\n",
    "test_grid = GridSearchCV(estimator=modelGrid, param_grid=param_grid, n_jobs=-1, pre_dispatch=9) #n_jobs=-1 doesn't work colab\n",
    "test_grid_result = test_grid.fit(X_train_scaled, y_train_encoded, validation_split=0.2)"
   ]
  },
  {
   "cell_type": "markdown",
   "metadata": {
    "colab_type": "text",
    "id": "2N2No5u7rEHf"
   },
   "source": [
    "### Second Grid Search results\n",
    "Our second grid search gave us a best accuracy of 30%! Our model is now 11% more efficient than the dummy model. This might not sound like a lot, but every improvement no matter how small, is still an improvement in our model and positive overall. The best parameters for this grid search was to run just 2 epochs with a batch size of 50 using optimizer Adamax"
   ]
  },
  {
   "cell_type": "code",
   "execution_count": 11,
   "metadata": {
    "colab": {},
    "colab_type": "code",
    "id": "446SLaqwrExe"
   },
   "outputs": [
    {
     "name": "stdout",
     "output_type": "stream",
     "text": [
      "0.30058750098096204   {'batch_size': 50, 'epochs': 2, 'optimizer': 'adamax'}\n"
     ]
    }
   ],
   "source": [
    "print(test_grid_result.best_score_, ' ', test_grid_result.best_params_)\n"
   ]
  },
  {
   "cell_type": "markdown",
   "metadata": {},
   "source": [
    "## 4.1 Final Model Presentation\n",
    "I was happy to use these best parameters from our two grid searches in our final model. We created our final model, and made sure to save our model as a JSON file, along with saving our best weights improvement to a hierarchical data format file for use in our prediction later. It’s now time to implement early stopping in our final model in order to get the best accuracy. The model stopped early after 4 epochs, selecting the best accuracy as epoch 3 with a test accuracy score of 30.7%"
   ]
  },
  {
   "cell_type": "code",
   "execution_count": 17,
   "metadata": {},
   "outputs": [
    {
     "name": "stdout",
     "output_type": "stream",
     "text": [
      "WARNING:tensorflow:From C:\\Users\\dnlma\\Anaconda3\\lib\\site-packages\\tensorflow\\python\\framework\\op_def_library.py:263: colocate_with (from tensorflow.python.framework.ops) is deprecated and will be removed in a future version.\n",
      "Instructions for updating:\n",
      "Colocations handled automatically by placer.\n",
      "WARNING:tensorflow:From C:\\Users\\dnlma\\Anaconda3\\lib\\site-packages\\tensorflow\\python\\ops\\math_ops.py:3066: to_int32 (from tensorflow.python.ops.math_ops) is deprecated and will be removed in a future version.\n",
      "Instructions for updating:\n",
      "Use tf.cast instead.\n",
      "Train on 64000 samples, validate on 16000 samples\n",
      "Epoch 1/5\n",
      "64000/64000 [==============================] - 14s 218us/step - loss: 1.5947 - acc: 0.2413 - val_loss: 1.5736 - val_acc: 0.2741\n",
      "\n",
      "Epoch 00001: val_acc improved from -inf to 0.27412, saving model to final-model-weightsImprovment.hdf5\n",
      "Epoch 2/5\n",
      "64000/64000 [==============================] - 14s 213us/step - loss: 1.5577 - acc: 0.2942 - val_loss: 1.5606 - val_acc: 0.2877\n",
      "\n",
      "Epoch 00002: val_acc improved from 0.27412 to 0.28769, saving model to final-model-weightsImprovment.hdf5\n",
      "Epoch 3/5\n",
      "64000/64000 [==============================] - 16s 243us/step - loss: 1.5389 - acc: 0.3159 - val_loss: 1.5556 - val_acc: 0.2988\n",
      "\n",
      "Epoch 00003: val_acc improved from 0.28769 to 0.29881, saving model to final-model-weightsImprovment.hdf5\n",
      "Epoch 4/5\n",
      "64000/64000 [==============================] - 15s 242us/step - loss: 1.5234 - acc: 0.3302 - val_loss: 1.5536 - val_acc: 0.3071\n",
      "\n",
      "Epoch 00004: val_acc improved from 0.29881 to 0.30706, saving model to final-model-weightsImprovment.hdf5\n",
      "Epoch 5/5\n",
      "64000/64000 [==============================] - 16s 247us/step - loss: 1.5075 - acc: 0.3423 - val_loss: 1.5544 - val_acc: 0.3026\n",
      "\n",
      "Epoch 00005: val_acc did not improve from 0.30706\n"
     ]
    },
    {
     "data": {
      "image/png": "[encoded data removed]",
      "text/plain": [
       "<Figure size 432x288 with 1 Axes>"
      ]
     },
     "metadata": {},
     "output_type": "display_data"
    }
   ],
   "source": [
    "def create_final_model(optimizer, learning_rate):  \n",
    "  model = Sequential() \n",
    "  model.add(Dense(1000, input_dim=n_features, activation='relu')) \n",
    "  model.add(Dense(750, activation='relu'))\n",
    "  model.add(Dense(250, activation='relu'))\n",
    "  model.add(Dense(100, activation='relu'))\n",
    "  model.add(Dense(100, activation='relu'))\n",
    "  model.add(Dense(100, activation='relu'))\n",
    "  model.add(Dense(50, activation='relu'))\n",
    "  model.add(Dense(20, activation='relu'))\n",
    "  model.add(Dense(n_class, activation='softmax'))\n",
    "  \n",
    "  # compile model (using categorical crossentropy as we have 5 classes)\n",
    "  model.compile(loss='categorical_crossentropy', optimizer=optimizer(lr=learning_rate), metrics=['accuracy'])\n",
    "  \n",
    "  # serialize model to JSON\n",
    "  model_json = model.to_json()\n",
    "  with open(\"modelStructure.json\", \"w\") as json_file: \n",
    "    json_file.write(model_json)\n",
    "    \n",
    "  return model\n",
    "\n",
    "optimizer = optimizers.Adamax\n",
    "learning_rate = 0.0001\n",
    "epochs = 2\n",
    "batch_size = 50\n",
    "final_model = create_final_model(optimizers.Adamax, learning_rate)\n",
    "\n",
    "# early stopping \n",
    "es = EarlyStopping(monitor='val_acc')\n",
    "\n",
    "# checkpointing\n",
    "filepath=\"final-model-weightsImprovment.hdf5\"\n",
    "checkpoint_final = ModelCheckpoint(filepath, monitor='val_acc', verbose=1, save_best_only=True, mode='max')\n",
    "callbacks_list_final = [checkpoint_final, es]\n",
    "\n",
    "# callbacks=callbacks_list\n",
    "final_model_history = final_model.fit(X_train_scaled, y_train_encoded, validation_split=0.2, epochs=5, batch_size=batch_size, callbacks=callbacks_list_final) \n",
    "\n",
    "# summarize history for accuracy \n",
    "plt.plot(final_model_history.history['acc']) \n",
    "plt.plot(final_model_history.history['val_acc']) \n",
    "plt.title('model accuracy') \n",
    "plt.ylabel('accuracy') \n",
    "plt.xlabel('epoch') \n",
    "plt.legend(['train', 'test'], loc='upper left') \n",
    "plt.show()\n"
   ]
  },
  {
   "cell_type": "markdown",
   "metadata": {},
   "source": [
    "## 4.2 Performance Evaluation and Summary\n",
    "It’s time to predict our model using our final model we saved to a json file and our best weights from our early stopping in the final run of our model. We run the model on our unseen test data that we put aside during data preprocessing and see an accuracy of 30.7% along with a loss of 1.548. We have successfully trained our model to perform upwards 50% more efficiently than guessing or using a dummy model. \n"
   ]
  },
  {
   "cell_type": "code",
   "execution_count": 18,
   "metadata": {},
   "outputs": [
    {
     "name": "stdout",
     "output_type": "stream",
     "text": [
      "20000/20000 [==============================] - 1s 56us/step\n",
      "acc 30.72\n",
      "loss 1.5482922130584718\n"
     ]
    }
   ],
   "source": [
    "#load the saved model in\n",
    "json_file = open('modelStructure.json', 'r')\n",
    "loaded_model_json = json_file.read()\n",
    "json_file.close()\n",
    "loaded_model = model_from_json(loaded_model_json)\n",
    "\n",
    "# load weights into new model\n",
    "file = \"final-model-weightsImprovment.hdf5\" \n",
    "loaded_model.load_weights(file)\n",
    "\n",
    "# compile model (using categorical crossentropy as we have 5 classes)\n",
    "loaded_model.compile(loss='categorical_crossentropy', optimizer=optimizer(lr=learning_rate), metrics=['accuracy'])\n",
    "  \n",
    "# evaluate the model \n",
    "scores = loaded_model.evaluate(X_test_scaled, y_test_encoded, verbose=1) \n",
    "\n",
    "print(loaded_model.metrics_names[1], scores[1]*100)\n",
    "print(loaded_model.metrics_names[0], scores[0])"
   ]
  },
  {
   "cell_type": "markdown",
   "metadata": {},
   "source": [
    "## 4.3 Conclusion:\n",
    "Our model can predict which of the 5 clusters a value belongs to, with 30% certainty. I learned a lot of valuable information from this project. I had a lot of trouble with many parts of the project including using cloud hosted kernals, file output, grid searches and much more. I now know how to do all of these things and have a better understanding of how to train a deep neural network using Keras. A lot of what i've learned will be useful knowledge for future Neural Net projects.\n"
   ]
  }
 ],
 "metadata": {
  "accelerator": "GPU",
  "colab": {
   "collapsed_sections": [],
   "name": "dev_latest.ipynb",
   "provenance": [],
   "toc_visible": true,
   "version": "0.3.2"
  },
  "kernelspec": {
   "display_name": "Python 3",
   "language": "python",
   "name": "python3"
  },
  "language_info": {
   "codemirror_mode": {
    "name": "ipython",
    "version": 3
   },
   "file_extension": ".py",
   "mimetype": "text/x-python",
   "name": "python",
   "nbconvert_exporter": "python",
   "pygments_lexer": "ipython3",
   "version": "3.7.1"
  }
 },
 "nbformat": 4,
 "nbformat_minor": 1
}
